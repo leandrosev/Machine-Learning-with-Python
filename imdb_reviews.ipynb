{
  "nbformat": 4,
  "nbformat_minor": 0,
  "metadata": {
    "colab": {
      "name": "imdb_reviews.ipynb",
      "provenance": [],
      "collapsed_sections": [
        "vNeKONGYyQlA",
        "6CwRdoDkOKpa"
      ],
      "machine_shape": "hm"
    },
    "kernelspec": {
      "name": "python3",
      "display_name": "Python 3"
    },
    "accelerator": "GPU"
  },
  "cells": [
    {
      "cell_type": "markdown",
      "source": [
        "# **Sentiment Analysis using State-of-the-Art Text Classification Algorithms**\n",
        "\n",
        "Evangelidakis Leandros, leandrosevag@hotmail.com\n",
        "\n",
        "\n",
        "---\n",
        "\n"
      ],
      "metadata": {
        "id": "sLa_sdSrO1s_"
      }
    },
    {
      "cell_type": "markdown",
      "source": [
        "# **Introduction**"
      ],
      "metadata": {
        "id": "rOR6LsoZ1tX9"
      }
    },
    {
      "cell_type": "markdown",
      "source": [
        "In the modern age of social networks, analyzing all the available information from user comments, documents etc. can be extemely time consuming. With AI we can automate tasks like that and save resources. In recent years, Deep Learning models achieve great results in understantding language models and is the best approach to Natural Language Processing (NLP) problems.\n",
        "\n",
        "Several popular NLP applications for text data are:\n",
        "  - Sentiment Analysis\n",
        "  - Language Translation\n",
        "  - Text Prediction\n",
        "  - Text Summarization\n",
        "  - Topic Modeling\n",
        "\n",
        "In this notebook we are going to examine the problem of Text Classification for Sentiment Analysis, which is the task of identifiying the emotional tone of some text. This could mean, classifying some text as positive 🙂 or negative 😞 (Binomial Classification), or, we can extend this task for classifying more than two states e.x. Positive 🙂,Neutral 😐,Negative 😞 etc. (MultiClass Classification). Here we are going to examine the first case.\n"
      ],
      "metadata": {
        "id": "QKocSlW4RSa6"
      }
    },
    {
      "cell_type": "markdown",
      "source": [
        "The [dataset](http://ai.stanford.edu/~amaas/data/sentiment/) we used comes from Stanford University and contains 50.000 movie reviews extracted from IMDB database. Half of them are used for training and the other half for validation."
      ],
      "metadata": {
        "id": "m5mkdgyoTHWv"
      }
    },
    {
      "cell_type": "markdown",
      "source": [
        "We will use several of the current state-of-the-art Machine Learning algorithms available for this task.\n",
        "\n",
        "Algorithms Used:\n",
        "  - [NBSVM](https://aclanthology.org/P12-2018.pdf) ( Naive Bayes Support Vector Machines )\n",
        "  - [fastTEXT](https://arxiv.org/pdf/1607.01759.pdf)\n",
        "  - [BERT](https://arxiv.org/pdf/1607.01759.pdf)\n",
        "  - [DistilBERT](https://arxiv.org/pdf/1910.01108.pdf)"
      ],
      "metadata": {
        "id": "ErUTFzC6PFLv"
      }
    },
    {
      "cell_type": "markdown",
      "source": [
        "# **Importing libraries and dataset**"
      ],
      "metadata": {
        "id": "4YxbG3VsUJDP"
      }
    },
    {
      "cell_type": "markdown",
      "source": [
        "[ktrain](https://arxiv.org/abs/2004.10703) is a lightweight wrapper library for TensorFlow Keras, which proved very usefull and easy to use."
      ],
      "metadata": {
        "id": "mhmoXC2QZXBu"
      }
    },
    {
      "cell_type": "code",
      "metadata": {
        "id": "WXNHDyIfxA28"
      },
      "source": [
        "!pip install ktrain"
      ],
      "execution_count": null,
      "outputs": []
    },
    {
      "cell_type": "code",
      "metadata": {
        "id": "15c32xm8l4wC"
      },
      "source": [
        "%tensorflow_version 2.x\n",
        "import ktrain\n",
        "from ktrain import text\n",
        "import tensorflow as tf\n",
        "import os.path\n",
        "import pandas as pd\n",
        "import numpy as np\n",
        "from glob import glob\n",
        "import os,re,string\n",
        "import nltk\n",
        "from nltk.tokenize import sent_tokenize, word_tokenize  "
      ],
      "execution_count": 2,
      "outputs": []
    },
    {
      "cell_type": "code",
      "metadata": {
        "id": "fz2tf70KPqRB",
        "colab": {
          "base_uri": "https://localhost:8080/"
        },
        "outputId": "6bb8228b-8048-4e6e-d96e-0b89f3e2c98a"
      },
      "source": [
        "dataset = tf.keras.utils.get_file(fname=\"aclImdb.tar.gz\",origin=\"http://ai.stanford.edu/~amaas/data/sentiment/aclImdb_v1.tar.gz\",extract=True,)"
      ],
      "execution_count": 3,
      "outputs": [
        {
          "output_type": "stream",
          "name": "stdout",
          "text": [
            "Downloading data from http://ai.stanford.edu/~amaas/data/sentiment/aclImdb_v1.tar.gz\n",
            "84131840/84125825 [==============================] - 1s 0us/step\n",
            "84140032/84125825 [==============================] - 1s 0us/step\n"
          ]
        }
      ]
    },
    {
      "cell_type": "code",
      "metadata": {
        "id": "qsyxR4znrGi6",
        "colab": {
          "base_uri": "https://localhost:8080/"
        },
        "outputId": "ca8bbbf9-a74f-496d-e9bc-7f99583642f1"
      },
      "source": [
        "datadir = os.path.join(os.path.dirname(dataset), 'aclImdb')\n",
        "print(datadir)"
      ],
      "execution_count": 4,
      "outputs": [
        {
          "output_type": "stream",
          "name": "stdout",
          "text": [
            "/root/.keras/datasets/aclImdb\n"
          ]
        }
      ]
    },
    {
      "cell_type": "markdown",
      "metadata": {
        "id": "Luopl_fCwYUy"
      },
      "source": [
        "#**Preprocessing**"
      ]
    },
    {
      "cell_type": "markdown",
      "source": [
        "Preprocessing text data means removing all the unecesairy information from the text. This can include:\n",
        "\n",
        "  - Tokenization (Splitting sentence into words)\n",
        "  - Stop Words Removal (removing very common words like \"the\",\"a\",\"an\" etc.)\n",
        "  - Stemming (Replacing word with its root word dancing->dance)\n",
        "  - Special Character Removal (removing code tags, special characters etc.)\n",
        " "
      ],
      "metadata": {
        "id": "02_-e2FDBfBN"
      }
    },
    {
      "cell_type": "markdown",
      "source": [
        "Our dataset contains html tags as well as several special characters we will remove"
      ],
      "metadata": {
        "id": "Qr6OY28UVW4K"
      }
    },
    {
      "cell_type": "code",
      "metadata": {
        "id": "jBRKqCcqwrYr"
      },
      "source": [
        "def clean_text(txtfile):\n",
        "    #Removing HTML tags:\n",
        "    cleaner = re.compile('<.*?>')\n",
        "    cleaned = re.sub(cleaner, ' ', txtfile)\n",
        "\n",
        "    #Removing special characters:\n",
        "    regexp  = r'[^a-zA-z0-9\\s]'\n",
        "    cleaned = re.sub(regexp,' ', cleaned)\n",
        "\n",
        "    #Stemming\n",
        "    #stemmer = nltk.porter.PorterStemmer()\n",
        "    #cleaned = ' '.join([stemmer.stem(word) for word in cleaned.split()])\n",
        "    \n",
        "    return(cleaned)\n",
        "    "
      ],
      "execution_count": 5,
      "outputs": []
    },
    {
      "cell_type": "code",
      "metadata": {
        "id": "2jj3Avzz0VHu",
        "colab": {
          "base_uri": "https://localhost:8080/",
          "height": 35
        },
        "outputId": "0cfa23c5-cc22-433e-b241-beac1b4178d8"
      },
      "source": [
        "#Example:\n",
        "\n",
        "clean_text('<br>text*</br>')"
      ],
      "execution_count": 45,
      "outputs": [
        {
          "output_type": "execute_result",
          "data": {
            "text/plain": [
              "' text  '"
            ],
            "application/vnd.google.colaboratory.intrinsic+json": {
              "type": "string"
            }
          },
          "metadata": {},
          "execution_count": 45
        }
      ]
    },
    {
      "cell_type": "code",
      "metadata": {
        "id": "At5bc0jrwa4f"
      },
      "source": [
        "def load_data(path,folders):\n",
        "  \n",
        "    reviews,sents=[],[]\n",
        "    for idx,label in enumerate(folders):\n",
        "        for txtname in glob(os.path.join(path,label,'*')):\n",
        "            txtfile = open(txtname,'r', encoding=\"utf8\").read()\n",
        "            txtfile = clean_text(txtfile)\n",
        "            reviews.append(txtfile)\n",
        "            sents.append(idx)\n",
        "            \n",
        "    print('Data loaded succesfully')        \n",
        "    return reviews,np.array(sents).astype(np.int8)  "
      ],
      "execution_count": 6,
      "outputs": []
    },
    {
      "cell_type": "markdown",
      "source": [
        "Now it's time to split into training and test set"
      ],
      "metadata": {
        "id": "WYc8WTY4YJx6"
      }
    },
    {
      "cell_type": "code",
      "metadata": {
        "id": "dOl7462wwa7v",
        "colab": {
          "base_uri": "https://localhost:8080/"
        },
        "outputId": "f4c0dce6-5f0c-4fcb-e157-a233ba4a3f7f"
      },
      "source": [
        "x_train,y_train = load_data(f'{datadir}/train',['neg','pos'])\n",
        "x_test,y_test   = load_data(f'{datadir}/test' ,['neg','pos'])"
      ],
      "execution_count": 44,
      "outputs": [
        {
          "output_type": "stream",
          "name": "stdout",
          "text": [
            "Data loaded succesfully\n",
            "Data loaded succesfully\n"
          ]
        }
      ]
    },
    {
      "cell_type": "markdown",
      "source": [
        "Here is an example of a review:"
      ],
      "metadata": {
        "id": "VuRbTpZnELdA"
      }
    },
    {
      "cell_type": "code",
      "metadata": {
        "id": "RqQpZIDVzKMv",
        "colab": {
          "base_uri": "https://localhost:8080/",
          "height": 105
        },
        "outputId": "4341eba7-6641-4fef-de0e-3cca08996c1e"
      },
      "source": [
        "x_train[0]"
      ],
      "execution_count": 45,
      "outputs": [
        {
          "output_type": "execute_result",
          "data": {
            "text/plain": [
              "'I had somewhat high hopes for this since I like Tim Roth  I was not pleased with this film  I liked the Ang Lee The Hulk a few years back so I figured this would have more of a bang to it  First I was very disappointed with John Hurt s performance here  He looks as if his eyebrows were re shaped for this  His performance was not convincing  He was not as good as one would expect  Tim Roth is cool as always here  The Gama thing didn t really stick to the original story line I don t think  I guess the best part of the film was the end  It had some cool action  The only problem with the original was that it was too long  This one is not as long but it got a bit boring at times  I remember some time ago when Walmart had this movie really cheap for sale and I always wondered why   Now I know  I was hoping to to get blown away  but I was not '"
            ],
            "application/vnd.google.colaboratory.intrinsic+json": {
              "type": "string"
            }
          },
          "metadata": {},
          "execution_count": 45
        }
      ]
    },
    {
      "cell_type": "code",
      "metadata": {
        "id": "Gs1bGNjM0hos",
        "colab": {
          "base_uri": "https://localhost:8080/"
        },
        "outputId": "1e528e4d-3ef4-4c69-8d5c-66ea1b187cb6"
      },
      "source": [
        "(x_train,y_train),(x_test,y_test),preproc = text.texts_from_array(x_train=x_train,y_train=y_train,x_test=x_test,y_test=y_test,max_features=80000,\n",
        "                                                                  maxlen=2000,ngram_range=2,preprocess_mode='standard',class_names=['neg','pos'])"
      ],
      "execution_count": 9,
      "outputs": [
        {
          "output_type": "stream",
          "name": "stdout",
          "text": [
            "language: en\n",
            "Word Counts: 74980\n",
            "Nrows: 25000\n",
            "25000 train sequences\n",
            "train sequence lengths:\n",
            "\tmean : 238\n",
            "\t95percentile : 610\n",
            "\t99percentile : 929\n",
            "Adding 2-gram features\n",
            "max_features changed to 1465722 with addition of ngrams\n",
            "Average train sequence length with ngrams: 475\n",
            "train (w/ngrams) sequence lengths:\n",
            "\tmean : 476\n",
            "\t95percentile : 1219\n",
            "\t99percentile : 1857\n",
            "x_train shape: (25000,2000)\n",
            "y_train shape: (25000, 2)\n",
            "Is Multi-Label? False\n",
            "25000 test sequences\n",
            "test sequence lengths:\n",
            "\tmean : 231\n",
            "\t95percentile : 585\n",
            "\t99percentile : 907\n",
            "Average test sequence length with ngrams: 421\n",
            "test (w/ngrams) sequence lengths:\n",
            "\tmean : 422\n",
            "\t95percentile : 1060\n",
            "\t99percentile : 1629\n",
            "x_test shape: (25000,2000)\n",
            "y_test shape: (25000, 2)\n",
            "task: text classification\n"
          ]
        }
      ]
    },
    {
      "cell_type": "markdown",
      "source": [
        "The available algorithms from ktrain can be seen below:"
      ],
      "metadata": {
        "id": "rj-iTsWEmGuA"
      }
    },
    {
      "cell_type": "code",
      "metadata": {
        "id": "t2zInYtY-EiE",
        "colab": {
          "base_uri": "https://localhost:8080/"
        },
        "outputId": "427d3a84-3c0e-46aa-b3c4-717422c9b562"
      },
      "source": [
        "text.print_text_classifiers()"
      ],
      "execution_count": 40,
      "outputs": [
        {
          "output_type": "stream",
          "name": "stdout",
          "text": [
            "fasttext: a fastText-like model [http://arxiv.org/pdf/1607.01759.pdf]\n",
            "logreg: logistic regression using a trainable Embedding layer\n",
            "nbsvm: NBSVM model [http://www.aclweb.org/anthology/P12-2018]\n",
            "bigru: Bidirectional GRU with pretrained fasttext word vectors [https://fasttext.cc/docs/en/crawl-vectors.html]\n",
            "standard_gru: simple 2-layer GRU with randomly initialized embeddings\n",
            "bert: Bidirectional Encoder Representations from Transformers (BERT) from keras_bert [https://arxiv.org/abs/1810.04805]\n",
            "distilbert: distilled, smaller, and faster BERT from Hugging Face transformers [https://arxiv.org/abs/1910.01108]\n"
          ]
        }
      ]
    },
    {
      "cell_type": "markdown",
      "metadata": {
        "id": "TD12e1729lCO"
      },
      "source": [
        "# **NBSVM**\n",
        "\n",
        "\n",
        "---\n",
        "\n"
      ]
    },
    {
      "cell_type": "markdown",
      "source": [
        "We use the **NBSVM** algorithm while also adding word bigrams as features. This novel algorithm is motivated by the fact that Naive Bayes is good for short texts while SVM is better for longer text. So the idea is combining these two algorithms by applying the SVM into the NB log-count ratios.\n",
        "\n",
        "To determine a good learning rate, SGD with Warm Restarts ([SGDR](https://arxiv.org/pdf/1608.03983.pdf)) is used."
      ],
      "metadata": {
        "id": "-adWPWhPbHIR"
      }
    },
    {
      "cell_type": "code",
      "metadata": {
        "id": "Tvt07Gxa9koJ",
        "colab": {
          "base_uri": "https://localhost:8080/"
        },
        "outputId": "27773b8d-06ab-4ecd-97aa-77331a1f0fd6"
      },
      "source": [
        "(x_train, y_train), (x_test, y_test), preproc = text.texts_from_folder(datadir,max_features=80000, maxlen=500,ngram_range=2,preprocess_mode='standard',classes=['pos', 'neg'])"
      ],
      "execution_count": 34,
      "outputs": [
        {
          "output_type": "stream",
          "name": "stdout",
          "text": [
            "detected encoding: utf-8\n",
            "language: en\n",
            "Word Counts: 88582\n",
            "Nrows: 25000\n",
            "25000 train sequences\n",
            "train sequence lengths:\n",
            "\tmean : 237\n",
            "\t95percentile : 608\n",
            "\t99percentile : 923\n",
            "Adding 2-gram features\n",
            "max_features changed to 1501800 with addition of ngrams\n",
            "Average train sequence length with ngrams: 473\n",
            "train (w/ngrams) sequence lengths:\n",
            "\tmean : 474\n",
            "\t95percentile : 1215\n",
            "\t99percentile : 1845\n",
            "x_train shape: (25000,500)\n",
            "y_train shape: (25000, 2)\n",
            "Is Multi-Label? False\n",
            "25000 test sequences\n",
            "test sequence lengths:\n",
            "\tmean : 230\n",
            "\t95percentile : 584\n",
            "\t99percentile : 900\n",
            "Average test sequence length with ngrams: 418\n",
            "test (w/ngrams) sequence lengths:\n",
            "\tmean : 419\n",
            "\t95percentile : 1052\n",
            "\t99percentile : 1613\n",
            "x_test shape: (25000,500)\n",
            "y_test shape: (25000, 2)\n"
          ]
        }
      ]
    },
    {
      "cell_type": "code",
      "metadata": {
        "id": "1xiivNyj-Emy",
        "colab": {
          "base_uri": "https://localhost:8080/"
        },
        "outputId": "d5026afd-a640-448c-ebe3-4df22713c651"
      },
      "source": [
        "model = text.text_classifier('nbsvm', (x_train, y_train), preproc=preproc)"
      ],
      "execution_count": 6,
      "outputs": [
        {
          "output_type": "stream",
          "name": "stdout",
          "text": [
            "Is Multi-Label? False\n",
            "compiling word ID features...\n",
            "maxlen is 500\n",
            "building document-term matrix... this may take a few moments...\n",
            "rows: 1-10000\n",
            "rows: 10001-20000\n",
            "rows: 20001-25000\n",
            "computing log-count ratios...\n",
            "done.\n"
          ]
        }
      ]
    },
    {
      "cell_type": "code",
      "source": [
        "model.save('/tmp/NBSVM_predictor')"
      ],
      "metadata": {
        "id": "fooRF-X4sxdW"
      },
      "execution_count": 7,
      "outputs": []
    },
    {
      "cell_type": "code",
      "source": [
        "#model.load('/tmp/NBSVM_predictor')"
      ],
      "metadata": {
        "id": "b6E_w1gAwjKb"
      },
      "execution_count": 24,
      "outputs": []
    },
    {
      "cell_type": "code",
      "metadata": {
        "id": "T48_y3G9-EpA"
      },
      "source": [
        "learner = ktrain.get_learner(model, train_data=(x_train, y_train), val_data=(x_test, y_test))"
      ],
      "execution_count": 9,
      "outputs": []
    },
    {
      "cell_type": "code",
      "metadata": {
        "id": "LsAXpDDk-q89",
        "colab": {
          "base_uri": "https://localhost:8080/",
          "height": 430
        },
        "outputId": "0ca2a852-2370-4abf-9396-b36c540c4c1a"
      },
      "source": [
        "learner.lr_find(show_plot=True)"
      ],
      "execution_count": null,
      "outputs": [
        {
          "output_type": "stream",
          "text": [
            "simulating training for different learning rates... this may take a few moments...\n",
            "Train on 25000 samples\n",
            "Epoch 1/1024\n",
            "25000/25000 [==============================] - 10s 404us/sample - loss: 0.6664 - accuracy: 0.6862\n",
            "Epoch 2/1024\n",
            "20416/25000 [=======================>......] - ETA: 1s - loss: 0.3316 - accuracy: 0.9232\n",
            "\n",
            "done.\n"
          ],
          "name": "stdout"
        },
        {
          "output_type": "display_data",
          "data": {
            "image/png": "[encoded data removed]",
            "text/plain": [
              "<Figure size 432x288 with 1 Axes>"
            ]
          },
          "metadata": {
            "tags": []
          }
        }
      ]
    },
    {
      "cell_type": "code",
      "metadata": {
        "id": "fa5mxx4E26VS",
        "colab": {
          "base_uri": "https://localhost:8080/",
          "height": 35
        },
        "outputId": "fc66b08e-75c2-430f-d5e4-ff2a6d3d8491"
      },
      "source": [
        "learner.reset_weights()"
      ],
      "execution_count": null,
      "outputs": [
        {
          "output_type": "stream",
          "text": [
            "Model weights have been reset.\n"
          ],
          "name": "stdout"
        }
      ]
    },
    {
      "cell_type": "code",
      "metadata": {
        "id": "pItOBfXJ-rEp",
        "colab": {
          "base_uri": "https://localhost:8080/",
          "height": 237
        },
        "outputId": "f8259230-dff8-467c-d487-b813fc268eef"
      },
      "source": [
        "learner.fit(0.001, 5, cycle_len=1)"
      ],
      "execution_count": null,
      "outputs": [
        {
          "output_type": "stream",
          "text": [
            "Train on 25000 samples, validate on 25000 samples\n",
            "Epoch 1/5\n",
            "25000/25000 [==============================] - 12s 463us/sample - loss: 0.2134 - accuracy: 0.9333 - val_loss: 0.2482 - val_accuracy: 0.9118\n",
            "Epoch 2/5\n",
            "25000/25000 [==============================] - 12s 463us/sample - loss: 0.0760 - accuracy: 0.9832 - val_loss: 0.2372 - val_accuracy: 0.9154\n",
            "Epoch 3/5\n",
            "25000/25000 [==============================] - 11s 455us/sample - loss: 0.0435 - accuracy: 0.9941 - val_loss: 0.2320 - val_accuracy: 0.9169\n",
            "Epoch 4/5\n",
            "25000/25000 [==============================] - 12s 485us/sample - loss: 0.0281 - accuracy: 0.9972 - val_loss: 0.2299 - val_accuracy: 0.9160\n",
            "Epoch 5/5\n",
            "25000/25000 [==============================] - 12s 487us/sample - loss: 0.0193 - accuracy: 0.9987 - val_loss: 0.2293 - val_accuracy: 0.9157\n"
          ],
          "name": "stdout"
        },
        {
          "output_type": "execute_result",
          "data": {
            "text/plain": [
              "<tensorflow.python.keras.callbacks.History at 0x7fdd625b29b0>"
            ]
          },
          "metadata": {
            "tags": []
          },
          "execution_count": 65
        }
      ]
    },
    {
      "cell_type": "markdown",
      "source": [
        "We train the model for 5 epochs using .001 as learning rate. The model accuracy in testing dataset is 91.57% as seen above. Training took only 1 minute, which is by far the fastest between the other algorithms we are going to use."
      ],
      "metadata": {
        "id": "It3d8rxMc01e"
      }
    },
    {
      "cell_type": "markdown",
      "metadata": {
        "id": "vNeKONGYyQlA"
      },
      "source": [
        "# **fastText**\n",
        "\n",
        "\n",
        "---\n",
        "\n"
      ]
    },
    {
      "cell_type": "markdown",
      "source": [
        "The **fastText** algorithm comes from Facebook AI Research and according to the authors it can process lots of data in orders of magnitude less training time that modern deep learning algorithms. The algorithm uses bag-of-ngrams instead of bag-of-words for calculating the word embeddings. Also, techniques for memory management (hashing-trick) are used in order to store and access the ngrams in an efficient way. The final classification layer uses logistic regression."
      ],
      "metadata": {
        "id": "tdgEVODqfIuS"
      }
    },
    {
      "cell_type": "code",
      "metadata": {
        "id": "dtq_yKPTzSTI"
      },
      "source": [
        "#(x_train, y_train), (x_test, y_test), preproc = text.texts_from_folder(datadir,max_features=80000, maxlen=2000,ngram_range=2,preprocess_mode='standard',classes=['pos', 'neg'])"
      ],
      "execution_count": 10,
      "outputs": []
    },
    {
      "cell_type": "code",
      "metadata": {
        "id": "jjQL3sgDyTxb",
        "colab": {
          "base_uri": "https://localhost:8080/"
        },
        "outputId": "185fb994-1826-4655-f531-f42f5e731a23"
      },
      "source": [
        "model = text.text_classifier('fasttext', (x_train, y_train), preproc=preproc)"
      ],
      "execution_count": 11,
      "outputs": [
        {
          "output_type": "stream",
          "name": "stdout",
          "text": [
            "Is Multi-Label? False\n",
            "compiling word ID features...\n",
            "maxlen is 2000\n",
            "done.\n"
          ]
        }
      ]
    },
    {
      "cell_type": "code",
      "metadata": {
        "id": "roQzVqbIyTzv"
      },
      "source": [
        "learner = ktrain.get_learner(model, train_data=(x_train, y_train), val_data=(x_test, y_test))"
      ],
      "execution_count": 12,
      "outputs": []
    },
    {
      "cell_type": "code",
      "metadata": {
        "id": "qtvasVoDyT2K",
        "colab": {
          "base_uri": "https://localhost:8080/",
          "height": 474
        },
        "outputId": "d3d57f11-77c8-4eeb-a0ae-a8f6ad29d16a"
      },
      "source": [
        "learner.lr_find(show_plot=True)"
      ],
      "execution_count": 52,
      "outputs": [
        {
          "output_type": "stream",
          "name": "stdout",
          "text": [
            "simulating training for different learning rates... this may take a few moments...\n",
            "Epoch 1/1024\n",
            "782/782 [==============================] - 45s 57ms/step - loss: 0.9604 - accuracy: 0.4992\n",
            "Epoch 2/1024\n",
            "782/782 [==============================] - 45s 57ms/step - loss: 0.6969 - accuracy: 0.5869\n",
            "Epoch 3/1024\n",
            "782/782 [==============================] - 16s 21ms/step - loss: 0.9202 - accuracy: 0.4918\n",
            "\n",
            "\n",
            "done.\n",
            "Visually inspect loss plot and select learning rate associated with falling loss\n"
          ]
        },
        {
          "output_type": "display_data",
          "data": {
            "text/plain": [
              "<Figure size 432x288 with 1 Axes>"
            ],
            "image/png": "[encoded data removed]"
          },
          "metadata": {
            "needs_background": "light"
          }
        }
      ]
    },
    {
      "cell_type": "code",
      "metadata": {
        "id": "gY8G-xQgNdyb",
        "colab": {
          "base_uri": "https://localhost:8080/"
        },
        "outputId": "f2a321bf-7273-4a1d-86f1-18c80f093144"
      },
      "source": [
        "learner.reset_weights()"
      ],
      "execution_count": 55,
      "outputs": [
        {
          "output_type": "stream",
          "name": "stdout",
          "text": [
            "Model weights have been reset.\n"
          ]
        }
      ]
    },
    {
      "cell_type": "code",
      "metadata": {
        "id": "BFiyumAx0AjZ",
        "colab": {
          "base_uri": "https://localhost:8080/"
        },
        "outputId": "c356c3a5-bdc9-4b82-e676-863301dcc44f"
      },
      "source": [
        "learner.autofit(0.01, 6)"
      ],
      "execution_count": 56,
      "outputs": [
        {
          "output_type": "stream",
          "name": "stdout",
          "text": [
            "\n",
            "\n",
            "begin training using triangular learning rate policy with max lr of 0.01...\n",
            "Epoch 1/6\n",
            "782/782 [==============================] - 47s 61ms/step - loss: 0.5753 - accuracy: 0.7016 - val_loss: 0.4002 - val_accuracy: 0.8336\n",
            "Epoch 2/6\n",
            "782/782 [==============================] - 47s 61ms/step - loss: 0.3885 - accuracy: 0.8296 - val_loss: 0.3459 - val_accuracy: 0.8556\n",
            "Epoch 3/6\n",
            "782/782 [==============================] - 48s 62ms/step - loss: 0.3073 - accuracy: 0.8694 - val_loss: 0.3160 - val_accuracy: 0.8667\n",
            "Epoch 4/6\n",
            "782/782 [==============================] - 49s 62ms/step - loss: 0.2520 - accuracy: 0.8989 - val_loss: 0.3089 - val_accuracy: 0.8718\n",
            "Epoch 5/6\n",
            "782/782 [==============================] - 48s 61ms/step - loss: 0.2209 - accuracy: 0.9147 - val_loss: 0.3152 - val_accuracy: 0.8753\n",
            "Epoch 6/6\n",
            "782/782 [==============================] - 48s 61ms/step - loss: 0.1992 - accuracy: 0.9226 - val_loss: 0.3135 - val_accuracy: 0.8778\n"
          ]
        },
        {
          "output_type": "execute_result",
          "data": {
            "text/plain": [
              "<keras.callbacks.History at 0x7f8ae3dd72d0>"
            ]
          },
          "metadata": {},
          "execution_count": 56
        }
      ]
    },
    {
      "cell_type": "code",
      "metadata": {
        "id": "TOaAwT6xYxhn",
        "colab": {
          "base_uri": "https://localhost:8080/",
          "height": 295
        },
        "outputId": "721a7675-ee03-4d2a-fbe6-be002a9c5680"
      },
      "source": [
        "learner.plot('lr')"
      ],
      "execution_count": 57,
      "outputs": [
        {
          "output_type": "display_data",
          "data": {
            "text/plain": [
              "<Figure size 432x288 with 1 Axes>"
            ],
            "image/png": "[encoded data removed]"
          },
          "metadata": {
            "needs_background": "light"
          }
        }
      ]
    },
    {
      "cell_type": "code",
      "source": [
        "learner.plot('loss')\n"
      ],
      "metadata": {
        "colab": {
          "base_uri": "https://localhost:8080/",
          "height": 295
        },
        "id": "b4fUrAp1wbCR",
        "outputId": "1930a8d4-ab67-4e35-9b5e-3f2d1fd44cd7"
      },
      "execution_count": 58,
      "outputs": [
        {
          "output_type": "display_data",
          "data": {
            "text/plain": [
              "<Figure size 432x288 with 1 Axes>"
            ],
            "image/png": "[encoded data removed]"
          },
          "metadata": {
            "needs_background": "light"
          }
        }
      ]
    },
    {
      "cell_type": "code",
      "source": [
        "model.save('/tmp/fasttext')"
      ],
      "metadata": {
        "id": "pbzQabRG5xi1"
      },
      "execution_count": 14,
      "outputs": []
    },
    {
      "cell_type": "markdown",
      "source": [
        "Validation accuracy is above 87% and training took about 2456 seconds or 41 minutes."
      ],
      "metadata": {
        "id": "BhlLVhWyl-Sh"
      }
    },
    {
      "cell_type": "markdown",
      "metadata": {
        "id": "6CwRdoDkOKpa"
      },
      "source": [
        "# **BERT**\n",
        "\n",
        "\n",
        "---\n",
        "\n",
        "\n",
        "\n"
      ]
    },
    {
      "cell_type": "markdown",
      "source": [
        "**B**idirectional **E**ncoder **R**epresentations from **T**ransformers or **BERT** is one of the best algorithms available for text classification and other NLP tasks. It is a pretrained model, trained on the whole Wikipedia corpus plus other sources where we only have to fine tune it for our specific task.\n",
        "\n",
        "There are several different version of the BERT model available. The one we use contains 768 hidden layers and 100 million parameters. BERT input data requires special preprocessing which is available in ktrain."
      ],
      "metadata": {
        "id": "vFEWeyLim2LI"
      }
    },
    {
      "cell_type": "code",
      "metadata": {
        "id": "lYueq3koPrlg",
        "colab": {
          "base_uri": "https://localhost:8080/",
          "height": 156
        },
        "outputId": "279c67f0-7a54-4280-8a9f-fdab49793f16"
      },
      "source": [
        "(x_train, y_train), (x_test, y_test), preproc = text.texts_from_folder(datadir,maxlen=512,preprocess_mode='bert',train_test_names=['train','test'],classes=['pos', 'neg'])"
      ],
      "execution_count": 30,
      "outputs": [
        {
          "output_type": "stream",
          "name": "stdout",
          "text": [
            "detected encoding: utf-8\n",
            "preprocessing train...\n",
            "language: en\n"
          ]
        },
        {
          "output_type": "display_data",
          "data": {
            "text/plain": [
              "<IPython.core.display.HTML object>"
            ],
            "text/html": [
              "\n",
              "<style>\n",
              "    /* Turns off some styling */\n",
              "    progress {\n",
              "        /* gets rid of default border in Firefox and Opera. */\n",
              "        border: none;\n",
              "        /* Needs to be in here for Safari polyfill so background images work as expected. */\n",
              "        background-size: auto;\n",
              "    }\n",
              "    .progress-bar-interrupted, .progress-bar-interrupted::-webkit-progress-bar {\n",
              "        background: #F44336;\n",
              "    }\n",
              "</style>\n"
            ]
          },
          "metadata": {}
        },
        {
          "output_type": "display_data",
          "data": {
            "text/plain": [
              "<IPython.core.display.HTML object>"
            ],
            "text/html": [
              "done."
            ]
          },
          "metadata": {}
        },
        {
          "output_type": "stream",
          "name": "stdout",
          "text": [
            "Is Multi-Label? False\n",
            "preprocessing test...\n",
            "language: en\n"
          ]
        },
        {
          "output_type": "display_data",
          "data": {
            "text/plain": [
              "<IPython.core.display.HTML object>"
            ],
            "text/html": [
              "\n",
              "<style>\n",
              "    /* Turns off some styling */\n",
              "    progress {\n",
              "        /* gets rid of default border in Firefox and Opera. */\n",
              "        border: none;\n",
              "        /* Needs to be in here for Safari polyfill so background images work as expected. */\n",
              "        background-size: auto;\n",
              "    }\n",
              "    .progress-bar-interrupted, .progress-bar-interrupted::-webkit-progress-bar {\n",
              "        background: #F44336;\n",
              "    }\n",
              "</style>\n"
            ]
          },
          "metadata": {}
        },
        {
          "output_type": "display_data",
          "data": {
            "text/plain": [
              "<IPython.core.display.HTML object>"
            ],
            "text/html": [
              "done."
            ]
          },
          "metadata": {}
        }
      ]
    },
    {
      "cell_type": "code",
      "metadata": {
        "id": "cCgilANEPrpI",
        "colab": {
          "base_uri": "https://localhost:8080/",
          "height": 72
        },
        "outputId": "428909a8-94f6-4204-c0ba-faed0a0a926b"
      },
      "source": [
        "model = text.text_classifier('bert', (x_train, y_train), preproc=preproc)\n",
        "learner = ktrain.get_learner(model,train_data=(x_train, y_train), val_data=(x_test, y_test), batch_size=6)\n",
        "#model.save('/tmp/BERT_model')"
      ],
      "execution_count": null,
      "outputs": [
        {
          "output_type": "stream",
          "text": [
            "Is Multi-Label? False\n",
            "maxlen is 512\n",
            "done.\n"
          ],
          "name": "stdout"
        }
      ]
    },
    {
      "cell_type": "code",
      "metadata": {
        "id": "aGunI6VaKYvc",
        "colab": {
          "base_uri": "https://localhost:8080/",
          "height": 90
        },
        "outputId": "a46cb478-e1af-4a94-9336-b71f5a4b9011"
      },
      "source": [
        "learner.lr_find()"
      ],
      "execution_count": null,
      "outputs": [
        {
          "output_type": "stream",
          "text": [
            "simulating training for different learning rates... this may take a few moments...\n",
            "Train on 25000 samples\n",
            "Epoch 1/1024\n",
            "   48/25000 [..............................] - ETA: 2:39:50 - loss: 0.8893 - acc: 0.5417"
          ],
          "name": "stdout"
        }
      ]
    },
    {
      "cell_type": "code",
      "metadata": {
        "id": "51OGJfIyPrq-",
        "colab": {
          "base_uri": "https://localhost:8080/",
          "height": 127
        },
        "outputId": "4159d03e-2046-44df-c71f-8e7460829ded"
      },
      "source": [
        "learner.fit_onecycle(2e-5, 1)\n"
      ],
      "execution_count": null,
      "outputs": [
        {
          "output_type": "stream",
          "text": [
            "\n",
            "\n",
            "begin training using onecycle policy with max lr of 2e-05...\n",
            "Train on 25000 samples, validate on 25000 samples\n",
            "25000/25000 [==============================] - 8466s 339ms/sample - loss: 0.1282 - accuracy: 0.9545 - val_loss: 0.1590 - val_accuracy: 0.9424\n"
          ],
          "name": "stdout"
        },
        {
          "output_type": "execute_result",
          "data": {
            "text/plain": [
              "<tensorflow.python.keras.callbacks.History at 0x7f4ef61b58d0>"
            ]
          },
          "metadata": {
            "tags": []
          },
          "execution_count": 11
        }
      ]
    },
    {
      "cell_type": "markdown",
      "source": [
        "\n",
        "As seen above, with only one epoch of training, the model achieves 94.24% of accuracy on validation data. Of course this great result comes with the price of training time ( 8466s or about 2.35 hours ).\n"
      ],
      "metadata": {
        "id": "UP-JI2HEoN3U"
      }
    },
    {
      "cell_type": "markdown",
      "metadata": {
        "id": "NodgoDhKpsA-"
      },
      "source": [
        "# **DistilBERT**"
      ]
    },
    {
      "cell_type": "markdown",
      "source": [
        "**DistilBERT** is a light version of the BERT model. It is based on Distillation, a technique used to get most of the useful knowledge of one model, while requiring much less training time. In particular, DistilBERT manages to reduce the size of BERT by 40%, while retaining 97% of the original language understanding capabilities and being 60% faster."
      ],
      "metadata": {
        "id": "E8aAN9Hbxwnc"
      }
    },
    {
      "cell_type": "code",
      "metadata": {
        "id": "NZSZx-xacw0Y"
      },
      "source": [
        "!pip install git+https://github.com/amaiya/eli5@tfkeras_0_10_1"
      ],
      "execution_count": null,
      "outputs": []
    },
    {
      "cell_type": "code",
      "metadata": {
        "colab": {
          "base_uri": "https://localhost:8080/",
          "height": 260
        },
        "id": "zTEor2ggSCNP",
        "outputId": "1cbdfed3-0646-4ebf-e852-848c60704b00"
      },
      "source": [
        "trn, val, preproc = text.texts_from_folder(datadir, maxlen=512,preprocess_mode='distilbert',classes=['pos', 'neg'])"
      ],
      "execution_count": 62,
      "outputs": [
        {
          "output_type": "stream",
          "name": "stdout",
          "text": [
            "detected encoding: utf-8\n",
            "preprocessing train...\n",
            "language: en\n",
            "train sequence lengths:\n",
            "\tmean : 234\n",
            "\t95percentile : 598\n",
            "\t99percentile : 913\n"
          ]
        },
        {
          "output_type": "display_data",
          "data": {
            "text/plain": [
              "<IPython.core.display.HTML object>"
            ],
            "text/html": [
              "\n",
              "<style>\n",
              "    /* Turns off some styling */\n",
              "    progress {\n",
              "        /* gets rid of default border in Firefox and Opera. */\n",
              "        border: none;\n",
              "        /* Needs to be in here for Safari polyfill so background images work as expected. */\n",
              "        background-size: auto;\n",
              "    }\n",
              "    .progress-bar-interrupted, .progress-bar-interrupted::-webkit-progress-bar {\n",
              "        background: #F44336;\n",
              "    }\n",
              "</style>\n"
            ]
          },
          "metadata": {}
        },
        {
          "output_type": "display_data",
          "data": {
            "text/plain": [
              "<IPython.core.display.HTML object>"
            ],
            "text/html": [
              ""
            ]
          },
          "metadata": {}
        },
        {
          "output_type": "stream",
          "name": "stdout",
          "text": [
            "Is Multi-Label? False\n",
            "preprocessing test...\n",
            "language: en\n",
            "test sequence lengths:\n",
            "\tmean : 229\n",
            "\t95percentile : 582\n",
            "\t99percentile : 901\n"
          ]
        },
        {
          "output_type": "display_data",
          "data": {
            "text/plain": [
              "<IPython.core.display.HTML object>"
            ],
            "text/html": [
              "\n",
              "<style>\n",
              "    /* Turns off some styling */\n",
              "    progress {\n",
              "        /* gets rid of default border in Firefox and Opera. */\n",
              "        border: none;\n",
              "        /* Needs to be in here for Safari polyfill so background images work as expected. */\n",
              "        background-size: auto;\n",
              "    }\n",
              "    .progress-bar-interrupted, .progress-bar-interrupted::-webkit-progress-bar {\n",
              "        background: #F44336;\n",
              "    }\n",
              "</style>\n"
            ]
          },
          "metadata": {}
        },
        {
          "output_type": "display_data",
          "data": {
            "text/plain": [
              "<IPython.core.display.HTML object>"
            ],
            "text/html": [
              ""
            ]
          },
          "metadata": {}
        }
      ]
    },
    {
      "cell_type": "code",
      "source": [
        "model = text.text_classifier('distilbert', train_data=trn, preproc=preproc)\n"
      ],
      "metadata": {
        "colab": {
          "base_uri": "https://localhost:8080/"
        },
        "id": "AW37r4viPaYC",
        "outputId": "c060d261-0ddb-4e48-8860-f8d9d59091ae"
      },
      "execution_count": 63,
      "outputs": [
        {
          "output_type": "stream",
          "name": "stdout",
          "text": [
            "Is Multi-Label? False\n",
            "maxlen is 512\n",
            "done.\n"
          ]
        }
      ]
    },
    {
      "cell_type": "code",
      "source": [
        "learner = ktrain.get_learner(model, train_data=trn, val_data=val, batch_size=6)\n"
      ],
      "metadata": {
        "id": "XzCsc9UYUFlw"
      },
      "execution_count": 64,
      "outputs": []
    },
    {
      "cell_type": "code",
      "source": [
        "learner.fit_onecycle(2e-5, 1)"
      ],
      "metadata": {
        "colab": {
          "base_uri": "https://localhost:8080/"
        },
        "id": "3ZAAY8wNUFuX",
        "outputId": "129115fa-4829-45d0-8427-828c9596db2a"
      },
      "execution_count": 68,
      "outputs": [
        {
          "output_type": "stream",
          "name": "stdout",
          "text": [
            "\n",
            "\n",
            "begin training using onecycle policy with max lr of 2e-05...\n",
            "4167/4167 [==============================] - 2161s 517ms/step - loss: 0.1526 - accuracy: 0.9444 - val_loss: 0.1793 - val_accuracy: 0.9314\n"
          ]
        },
        {
          "output_type": "execute_result",
          "data": {
            "text/plain": [
              "<keras.callbacks.History at 0x7f31ebc7b490>"
            ]
          },
          "metadata": {},
          "execution_count": 68
        }
      ]
    },
    {
      "cell_type": "code",
      "source": [
        "learner\n"
      ],
      "metadata": {
        "colab": {
          "base_uri": "https://localhost:8080/"
        },
        "id": "XE4hJj4JdcX1",
        "outputId": "6fed7899-5a18-4845-dbdb-5d45f8d060d1"
      },
      "execution_count": 80,
      "outputs": [
        {
          "output_type": "execute_result",
          "data": {
            "text/plain": [
              "<ktrain.text.learner.TransformerTextClassLearner at 0x7f305d9a22d0>"
            ]
          },
          "metadata": {},
          "execution_count": 80
        }
      ]
    },
    {
      "cell_type": "code",
      "source": [
        "model.save('/tmp/distilbert')"
      ],
      "metadata": {
        "colab": {
          "base_uri": "https://localhost:8080/"
        },
        "id": "yVTfRDfIdcZc",
        "outputId": "ee30f997-c5ef-4449-a503-30727001c693"
      },
      "execution_count": 71,
      "outputs": [
        {
          "output_type": "stream",
          "name": "stderr",
          "text": [
            "WARNING:absl:Found untraced functions such as embeddings_layer_call_fn, embeddings_layer_call_and_return_conditional_losses, transformer_layer_call_fn, transformer_layer_call_and_return_conditional_losses, add_1_layer_call_fn while saving (showing 5 of 166). These functions will not be directly callable after loading.\n"
          ]
        }
      ]
    },
    {
      "cell_type": "code",
      "source": [
        "!zip -r /tmp/distilbert.zip /tmp/distilbert"
      ],
      "metadata": {
        "colab": {
          "base_uri": "https://localhost:8080/"
        },
        "id": "VTbkroWNdcg-",
        "outputId": "33e70850-bf46-4e8c-9dea-e033e4d140fb"
      },
      "execution_count": 72,
      "outputs": [
        {
          "output_type": "stream",
          "name": "stdout",
          "text": [
            "  adding: tmp/distilbert/ (stored 0%)\n",
            "  adding: tmp/distilbert/variables/ (stored 0%)\n",
            "  adding: tmp/distilbert/variables/variables.data-00000-of-00001 (deflated 12%)\n",
            "  adding: tmp/distilbert/variables/variables.index (deflated 79%)\n",
            "  adding: tmp/distilbert/saved_model.pb (deflated 92%)\n",
            "  adding: tmp/distilbert/assets/ (stored 0%)\n",
            "  adding: tmp/distilbert/keras_metadata.pb (deflated 94%)\n"
          ]
        }
      ]
    },
    {
      "cell_type": "markdown",
      "source": [
        "We see that with only one training cycle we achieve 93.13% accuracy on validation dataset. "
      ],
      "metadata": {
        "id": "Aykqgf2uzBDh"
      }
    },
    {
      "cell_type": "code",
      "metadata": {
        "id": "ia5-SNw7o_aS"
      },
      "source": [
        "predictor = ktrain.get_predictor(learner.model,preproc=transf)"
      ],
      "execution_count": 59,
      "outputs": []
    },
    {
      "cell_type": "code",
      "metadata": {
        "id": "0jM2OYKEpSVW"
      },
      "source": [
        "predictor.save('/tmp/distilbert_imdb')"
      ],
      "execution_count": null,
      "outputs": []
    },
    {
      "cell_type": "code",
      "source": [
        "#predictor = ktrain.load_predictor('/tmp/distilbert_imdb')"
      ],
      "metadata": {
        "id": "-CjFla6Xp6it"
      },
      "execution_count": null,
      "outputs": []
    },
    {
      "cell_type": "markdown",
      "metadata": {
        "id": "-S7eurzfyMSn"
      },
      "source": [
        "# **Predicting Sentiments**\n",
        "\n",
        "\n",
        "---\n",
        "\n"
      ]
    },
    {
      "cell_type": "markdown",
      "source": [
        "In this section we show how to use our models for predicting the sentiment in a text. Also, by using the explain() function of ktrain, we can visualize which words have a positive or a negative impact in the models prediction. This is computed using the [LIME](https://arxiv.org/pdf/1602.04938.pdf) method."
      ],
      "metadata": {
        "id": "v9M8qeL4z0M3"
      }
    },
    {
      "cell_type": "code",
      "metadata": {
        "id": "zyMzQPfY_-QU"
      },
      "source": [
        "predictor = ktrain.get_predictor(learner.model, preproc)"
      ],
      "execution_count": 74,
      "outputs": []
    },
    {
      "cell_type": "code",
      "metadata": {
        "id": "mqtR_gbZ_-Sz"
      },
      "source": [
        "data = [ 'good for watching','good for nothing',\n",
        "        'This movie got me the chills from the beggining.Stunning visuals and good performance',\n",
        "        'I hated this movie','I have to do five projects at the same time.I guess u dont have to sleep every day.',\n",
        "        'The film wasnt what i expected.In a bad way.',\n",
        "        'I enjoyed this movie.Good production',\n",
        "        ]"
      ],
      "execution_count": 75,
      "outputs": []
    },
    {
      "cell_type": "code",
      "metadata": {
        "id": "o-xWtX1x_-Va"
      },
      "source": [
        "def sentiment_analysis(strings):\n",
        "  print('Sentiments:\\n ',predictor.get_classes())\n",
        "  print('')\n",
        "  print('-'*100)\n",
        "  for sent in strings :\n",
        "    print(sent,'|--->',predictor.predict(sent))\n",
        "    print('-'*100)\n",
        "  \n",
        "  print('Probabilities:')  \n",
        "  print(predictor.predict(strings, return_proba=True))"
      ],
      "execution_count": 76,
      "outputs": []
    },
    {
      "cell_type": "code",
      "metadata": {
        "id": "DBoXUij5BEhN",
        "colab": {
          "base_uri": "https://localhost:8080/"
        },
        "outputId": "a70d699f-9409-48b8-a15d-f42108b3949b"
      },
      "source": [
        "sentiment_analysis(data)"
      ],
      "execution_count": 77,
      "outputs": [
        {
          "output_type": "stream",
          "name": "stdout",
          "text": [
            "Sentiments:\n",
            "  ['neg', 'pos']\n",
            "\n",
            "----------------------------------------------------------------------------------------------------\n",
            "good for watching |---> pos\n",
            "----------------------------------------------------------------------------------------------------\n",
            "good for nothing |---> neg\n",
            "----------------------------------------------------------------------------------------------------\n",
            "This movie got me the chills from the beggining.Stunning visuals and good performance |---> pos\n",
            "----------------------------------------------------------------------------------------------------\n",
            "I hated this movie |---> neg\n",
            "----------------------------------------------------------------------------------------------------\n",
            "I have to do five projects at the same time.I guess u dont have to sleep every day. |---> neg\n",
            "----------------------------------------------------------------------------------------------------\n",
            "The film wasnt what i expected.In a bad way. |---> neg\n",
            "----------------------------------------------------------------------------------------------------\n",
            "I enjoyed this movie.Good production |---> pos\n",
            "----------------------------------------------------------------------------------------------------\n",
            "Probabilities:\n",
            "[[0.12278876 0.8772113 ]\n",
            " [0.5930599  0.40694007]\n",
            " [0.00381938 0.99618065]\n",
            " [0.9687301  0.03126991]\n",
            " [0.6478732  0.35212675]\n",
            " [0.9702876  0.02971235]\n",
            " [0.00567026 0.9943297 ]]\n"
          ]
        }
      ]
    },
    {
      "cell_type": "code",
      "source": [
        "test = 'I was unlucky enough to have seen this at the Sidewalk Film Festival  Sidewalk as a whole was a disappointment and this movie was the final nail in the coffin  Being a devout fan of Lewis Carroll s  Alice  books I was very excited about this movie s premier  which only made it that much more uncomfortable to watch  Normally I m enthusiastic about modern re tellings if they are treated well  Usually it s interesting to see the parallels between the past and present within a familiar story  Unfortunately this movie was less of a modern retelling and more of a pop culture perversion  The adaptation of the original s characters seemed juvenile and usually proved to be horribly annoying  It probably didn t help that the actors weren t very good either  Most performances were ridiculously over the top  which I assume was either due to bad direction or an effort to make up for a bad script  I did not laugh once through out the duration of the film  All of the jokes were outdated references to not so current events that are sure to lose their poignancy as time goes by  Really  the only highlight of the film was the opening sequence in which the white rabbit is on his way to meet Alice  but even then the score was a poor imitation of Danny Elfman s work  Also  I d have to say that the conversion of the croquet game into a rave dance off was awful  It was with out a doubt the low point of the film   What a joke  Don t see this movie  After its conclusion I was genuinely angry'"
      ],
      "metadata": {
        "id": "uxsBwDFm9Ila"
      },
      "execution_count": 78,
      "outputs": []
    },
    {
      "cell_type": "code",
      "metadata": {
        "id": "tdkHw1SZpSYf",
        "colab": {
          "base_uri": "https://localhost:8080/",
          "height": 275
        },
        "outputId": "b55ea779-29aa-404a-dcb4-c2bd83b5d6fb"
      },
      "source": [
        "predictor.explain(test)"
      ],
      "execution_count": 79,
      "outputs": [
        {
          "output_type": "execute_result",
          "data": {
            "text/plain": [
              "<IPython.core.display.HTML object>"
            ],
            "text/html": [
              "\n",
              "    <style>\n",
              "    table.eli5-weights tr:hover {\n",
              "        filter: brightness(85%);\n",
              "    }\n",
              "</style>\n",
              "\n",
              "\n",
              "\n",
              "    \n",
              "\n",
              "    \n",
              "\n",
              "    \n",
              "\n",
              "    \n",
              "\n",
              "    \n",
              "\n",
              "    \n",
              "\n",
              "\n",
              "    \n",
              "\n",
              "    \n",
              "\n",
              "    \n",
              "\n",
              "    \n",
              "        \n",
              "\n",
              "    \n",
              "\n",
              "        \n",
              "\n",
              "        \n",
              "    \n",
              "        \n",
              "        \n",
              "    \n",
              "        <p style=\"margin-bottom: 0.5em; margin-top: 0em\">\n",
              "            <b>\n",
              "    \n",
              "        y=neg\n",
              "    \n",
              "</b>\n",
              "\n",
              "    \n",
              "    (probability <b>0.996</b>, score <b>-5.559</b>)\n",
              "\n",
              "top features\n",
              "        </p>\n",
              "    \n",
              "    <table class=\"eli5-weights\"\n",
              "           style=\"border-collapse: collapse; border: none; margin-top: 0em; table-layout: auto; margin-bottom: 2em;\">\n",
              "        <thead>\n",
              "        <tr style=\"border: none;\">\n",
              "            \n",
              "                <th style=\"padding: 0 1em 0 0.5em; text-align: right; border: none;\" title=\"Feature contribution already accounts for the feature value (for linear models, contribution = weight * feature value), and the sum of feature contributions is equal to the score or, for some classifiers, to the probability. Feature values are shown if &quot;show_feature_values&quot; is True.\">\n",
              "                    Contribution<sup>?</sup>\n",
              "                </th>\n",
              "            \n",
              "            <th style=\"padding: 0 0.5em 0 0.5em; text-align: left; border: none;\">Feature</th>\n",
              "            \n",
              "        </tr>\n",
              "        </thead>\n",
              "        <tbody>\n",
              "        \n",
              "            <tr style=\"background-color: hsl(120, 100.00%, 80.00%); border: none;\">\n",
              "    <td style=\"padding: 0 1em 0 0.5em; text-align: right; border: none;\">\n",
              "        +5.658\n",
              "    </td>\n",
              "    <td style=\"padding: 0 0.5em 0 0.5em; text-align: left; border: none;\">\n",
              "        Highlighted in text (sum)\n",
              "    </td>\n",
              "    \n",
              "</tr>\n",
              "        \n",
              "        \n",
              "\n",
              "        \n",
              "        \n",
              "            <tr style=\"background-color: hsl(0, 100.00%, 98.82%); border: none;\">\n",
              "    <td style=\"padding: 0 1em 0 0.5em; text-align: right; border: none;\">\n",
              "        -0.099\n",
              "    </td>\n",
              "    <td style=\"padding: 0 0.5em 0 0.5em; text-align: left; border: none;\">\n",
              "        &lt;BIAS&gt;\n",
              "    </td>\n",
              "    \n",
              "</tr>\n",
              "        \n",
              "\n",
              "        </tbody>\n",
              "    </table>\n",
              "\n",
              "    \n",
              "\n",
              "\n",
              "\n",
              "    <p style=\"margin-bottom: 2.5em; margin-top:-0.5em;\">\n",
              "        <span style=\"background-color: hsl(0, 100.00%, 92.21%); opacity: 0.82\" title=\"-0.069\">i</span><span style=\"opacity: 0.80\"> </span><span style=\"background-color: hsl(0, 100.00%, 97.73%); opacity: 0.80\" title=\"-0.012\">was</span><span style=\"opacity: 0.80\"> </span><span style=\"background-color: hsl(120, 100.00%, 62.34%); opacity: 0.98\" title=\"0.653\">unlucky</span><span style=\"opacity: 0.80\"> </span><span style=\"background-color: hsl(0, 100.00%, 87.82%); opacity: 0.84\" title=\"-0.130\">enough</span><span style=\"opacity: 0.80\"> </span><span style=\"background-color: hsl(0, 100.00%, 87.92%); opacity: 0.84\" title=\"-0.129\">to</span><span style=\"opacity: 0.80\"> </span><span style=\"background-color: hsl(0, 100.00%, 90.88%); opacity: 0.82\" title=\"-0.086\">have</span><span style=\"opacity: 0.80\"> </span><span style=\"background-color: hsl(120, 100.00%, 94.39%); opacity: 0.81\" title=\"0.043\">seen</span><span style=\"opacity: 0.80\"> </span><span style=\"background-color: hsl(0, 100.00%, 97.82%); opacity: 0.80\" title=\"-0.011\">this</span><span style=\"opacity: 0.80\"> </span><span style=\"background-color: hsl(120, 100.00%, 95.82%); opacity: 0.81\" title=\"0.028\">at</span><span style=\"opacity: 0.80\"> </span><span style=\"background-color: hsl(0, 100.00%, 89.13%); opacity: 0.83\" title=\"-0.111\">the</span><span style=\"opacity: 0.80\"> </span><span style=\"background-color: hsl(0, 100.00%, 94.68%); opacity: 0.81\" title=\"-0.040\">sidewalk</span><span style=\"opacity: 0.80\"> </span><span style=\"background-color: hsl(120, 100.00%, 87.93%); opacity: 0.84\" title=\"0.129\">film</span><span style=\"opacity: 0.80\"> </span><span style=\"background-color: hsl(0, 100.00%, 93.08%); opacity: 0.82\" title=\"-0.058\">festival</span><span style=\"opacity: 0.80\"> </span><span style=\"background-color: hsl(120, 100.00%, 91.34%); opacity: 0.82\" title=\"0.080\">sidewalk</span><span style=\"opacity: 0.80\"> </span><span style=\"background-color: hsl(0, 100.00%, 92.33%); opacity: 0.82\" title=\"-0.067\">as</span><span style=\"opacity: 0.80\"> </span><span style=\"background-color: hsl(120, 100.00%, 94.65%); opacity: 0.81\" title=\"0.040\">a</span><span style=\"opacity: 0.80\"> whole </span><span style=\"background-color: hsl(0, 100.00%, 87.89%); opacity: 0.84\" title=\"-0.129\">was</span><span style=\"opacity: 0.80\"> </span><span style=\"background-color: hsl(0, 100.00%, 96.23%); opacity: 0.81\" title=\"-0.024\">a</span><span style=\"opacity: 0.80\"> </span><span style=\"background-color: hsl(120, 100.00%, 60.00%); opacity: 1.00\" title=\"0.712\">disappointment</span><span style=\"opacity: 0.80\"> </span><span style=\"background-color: hsl(0, 100.00%, 97.90%); opacity: 0.80\" title=\"-0.011\">and</span><span style=\"opacity: 0.80\"> </span><span style=\"background-color: hsl(0, 100.00%, 90.88%); opacity: 0.82\" title=\"-0.086\">this</span><span style=\"opacity: 0.80\"> </span><span style=\"background-color: hsl(120, 100.00%, 93.11%); opacity: 0.82\" title=\"0.058\">movie</span><span style=\"opacity: 0.80\"> </span><span style=\"background-color: hsl(120, 100.00%, 97.17%); opacity: 0.80\" title=\"0.016\">was</span><span style=\"opacity: 0.80\"> </span><span style=\"background-color: hsl(0, 100.00%, 97.85%); opacity: 0.80\" title=\"-0.011\">the</span><span style=\"opacity: 0.80\"> </span><span style=\"background-color: hsl(120, 100.00%, 88.55%); opacity: 0.83\" title=\"0.119\">final</span><span style=\"opacity: 0.80\"> nail </span><span style=\"background-color: hsl(120, 100.00%, 92.51%); opacity: 0.82\" title=\"0.065\">in</span><span style=\"opacity: 0.80\"> </span><span style=\"background-color: hsl(0, 100.00%, 99.12%); opacity: 0.80\" title=\"-0.003\">the</span><span style=\"opacity: 0.80\"> </span><span style=\"background-color: hsl(120, 100.00%, 94.88%); opacity: 0.81\" title=\"0.038\">coffin</span><span style=\"opacity: 0.80\"> </span><span style=\"background-color: hsl(120, 100.00%, 86.46%); opacity: 0.84\" title=\"0.152\">being</span><span style=\"opacity: 0.80\"> </span><span style=\"background-color: hsl(120, 100.00%, 94.65%); opacity: 0.81\" title=\"0.040\">a</span><span style=\"opacity: 0.80\"> </span><span style=\"background-color: hsl(120, 100.00%, 81.71%); opacity: 0.87\" title=\"0.233\">devout</span><span style=\"opacity: 0.80\"> </span><span style=\"background-color: hsl(120, 100.00%, 85.49%); opacity: 0.85\" title=\"0.167\">fan</span><span style=\"opacity: 0.80\"> of </span><span style=\"background-color: hsl(120, 100.00%, 75.94%); opacity: 0.90\" title=\"0.344\">lewis</span><span style=\"opacity: 0.80\"> </span><span style=\"background-color: hsl(120, 100.00%, 85.15%); opacity: 0.85\" title=\"0.173\">carroll</span><span style=\"opacity: 0.80\"> </span><span style=\"background-color: hsl(0, 100.00%, 85.70%); opacity: 0.85\" title=\"-0.164\">s</span><span style=\"opacity: 0.80\"> </span><span style=\"background-color: hsl(0, 100.00%, 83.09%); opacity: 0.86\" title=\"-0.208\">alice</span><span style=\"opacity: 0.80\"> </span><span style=\"background-color: hsl(120, 100.00%, 86.83%); opacity: 0.84\" title=\"0.146\">books</span><span style=\"opacity: 0.80\"> </span><span style=\"background-color: hsl(0, 100.00%, 92.21%); opacity: 0.82\" title=\"-0.069\">i</span><span style=\"opacity: 0.80\"> </span><span style=\"background-color: hsl(0, 100.00%, 97.73%); opacity: 0.80\" title=\"-0.012\">was</span><span style=\"opacity: 0.80\"> </span><span style=\"background-color: hsl(0, 100.00%, 82.99%); opacity: 0.86\" title=\"-0.210\">very</span><span style=\"opacity: 0.80\"> </span><span style=\"background-color: hsl(0, 100.00%, 80.27%); opacity: 0.87\" title=\"-0.260\">excited</span><span style=\"opacity: 0.80\"> </span><span style=\"background-color: hsl(120, 100.00%, 81.39%); opacity: 0.87\" title=\"0.239\">about</span><span style=\"opacity: 0.80\"> </span><span style=\"background-color: hsl(120, 100.00%, 92.96%); opacity: 0.82\" title=\"0.059\">this</span><span style=\"opacity: 0.80\"> </span><span style=\"background-color: hsl(120, 100.00%, 93.11%); opacity: 0.82\" title=\"0.058\">movie</span><span style=\"opacity: 0.80\"> </span><span style=\"background-color: hsl(120, 100.00%, 96.64%); opacity: 0.81\" title=\"0.021\">s</span><span style=\"opacity: 0.80\"> </span><span style=\"background-color: hsl(0, 100.00%, 77.92%); opacity: 0.89\" title=\"-0.305\">premier</span><span style=\"opacity: 0.80\"> </span><span style=\"background-color: hsl(0, 100.00%, 96.06%); opacity: 0.81\" title=\"-0.026\">which</span><span style=\"opacity: 0.80\"> </span><span style=\"background-color: hsl(120, 100.00%, 86.41%); opacity: 0.84\" title=\"0.152\">only</span><span style=\"opacity: 0.80\"> made </span><span style=\"background-color: hsl(0, 100.00%, 89.84%); opacity: 0.83\" title=\"-0.101\">it</span><span style=\"opacity: 0.80\"> </span><span style=\"background-color: hsl(0, 100.00%, 96.43%); opacity: 0.81\" title=\"-0.023\">that</span><span style=\"opacity: 0.80\"> </span><span style=\"background-color: hsl(120, 100.00%, 93.90%); opacity: 0.81\" title=\"0.049\">much</span><span style=\"opacity: 0.80\"> </span><span style=\"background-color: hsl(0, 100.00%, 93.90%); opacity: 0.81\" title=\"-0.048\">more</span><span style=\"opacity: 0.80\"> </span><span style=\"background-color: hsl(120, 100.00%, 73.10%); opacity: 0.91\" title=\"0.404\">uncomfortable</span><span style=\"opacity: 0.80\"> to </span><span style=\"background-color: hsl(120, 100.00%, 90.72%); opacity: 0.82\" title=\"0.088\">watch</span><span style=\"opacity: 0.80\"> </span><span style=\"background-color: hsl(120, 100.00%, 87.17%); opacity: 0.84\" title=\"0.140\">normally</span><span style=\"opacity: 0.80\"> </span><span style=\"background-color: hsl(0, 100.00%, 85.00%); opacity: 0.85\" title=\"-0.175\">i</span><span style=\"opacity: 0.80\"> </span><span style=\"background-color: hsl(0, 100.00%, 98.15%); opacity: 0.80\" title=\"-0.009\">m</span><span style=\"opacity: 0.80\"> </span><span style=\"background-color: hsl(0, 100.00%, 93.52%); opacity: 0.81\" title=\"-0.053\">enthusiastic</span><span style=\"opacity: 0.80\"> </span><span style=\"background-color: hsl(120, 100.00%, 85.44%); opacity: 0.85\" title=\"0.168\">about</span><span style=\"opacity: 0.80\"> </span><span style=\"background-color: hsl(0, 100.00%, 82.09%); opacity: 0.86\" title=\"-0.226\">modern</span><span style=\"opacity: 0.80\"> </span><span style=\"background-color: hsl(120, 100.00%, 88.18%); opacity: 0.84\" title=\"0.125\">re</span><span style=\"opacity: 0.80\"> </span><span style=\"background-color: hsl(0, 100.00%, 81.59%); opacity: 0.87\" title=\"-0.235\">tellings</span><span style=\"opacity: 0.80\"> </span><span style=\"background-color: hsl(0, 100.00%, 85.19%); opacity: 0.85\" title=\"-0.172\">if</span><span style=\"opacity: 0.80\"> </span><span style=\"background-color: hsl(120, 100.00%, 83.56%); opacity: 0.86\" title=\"0.200\">they</span><span style=\"opacity: 0.80\"> are </span><span style=\"background-color: hsl(120, 100.00%, 86.46%); opacity: 0.84\" title=\"0.152\">treated</span><span style=\"opacity: 0.80\"> well </span><span style=\"background-color: hsl(0, 100.00%, 90.87%); opacity: 0.82\" title=\"-0.086\">usually</span><span style=\"opacity: 0.80\"> </span><span style=\"background-color: hsl(0, 100.00%, 85.15%); opacity: 0.85\" title=\"-0.173\">it</span><span style=\"opacity: 0.80\"> </span><span style=\"background-color: hsl(0, 100.00%, 86.41%); opacity: 0.84\" title=\"-0.152\">s</span><span style=\"opacity: 0.80\"> interesting to </span><span style=\"background-color: hsl(120, 100.00%, 98.27%); opacity: 0.80\" title=\"0.008\">see</span><span style=\"opacity: 0.80\"> </span><span style=\"background-color: hsl(0, 100.00%, 97.84%); opacity: 0.80\" title=\"-0.011\">the</span><span style=\"opacity: 0.80\"> parallels </span><span style=\"background-color: hsl(0, 100.00%, 93.53%); opacity: 0.81\" title=\"-0.053\">between</span><span style=\"opacity: 0.80\"> </span><span style=\"background-color: hsl(120, 100.00%, 92.80%); opacity: 0.82\" title=\"0.061\">the</span><span style=\"opacity: 0.80\"> </span><span style=\"background-color: hsl(0, 100.00%, 93.78%); opacity: 0.81\" title=\"-0.050\">past</span><span style=\"opacity: 0.80\"> </span><span style=\"background-color: hsl(0, 100.00%, 87.81%); opacity: 0.84\" title=\"-0.130\">and</span><span style=\"opacity: 0.80\"> present within </span><span style=\"background-color: hsl(120, 100.00%, 94.45%); opacity: 0.81\" title=\"0.042\">a</span><span style=\"opacity: 0.80\"> </span><span style=\"background-color: hsl(0, 100.00%, 77.28%); opacity: 0.89\" title=\"-0.317\">familiar</span><span style=\"opacity: 0.80\"> </span><span style=\"background-color: hsl(0, 100.00%, 84.01%); opacity: 0.85\" title=\"-0.192\">story</span><span style=\"opacity: 0.80\"> </span><span style=\"background-color: hsl(120, 100.00%, 84.74%); opacity: 0.85\" title=\"0.180\">unfortunately</span><span style=\"opacity: 0.80\"> </span><span style=\"background-color: hsl(120, 100.00%, 98.75%); opacity: 0.80\" title=\"0.005\">this</span><span style=\"opacity: 0.80\"> </span><span style=\"background-color: hsl(120, 100.00%, 93.11%); opacity: 0.82\" title=\"0.058\">movie</span><span style=\"opacity: 0.80\"> </span><span style=\"background-color: hsl(120, 100.00%, 95.24%); opacity: 0.81\" title=\"0.034\">was</span><span style=\"opacity: 0.80\"> </span><span style=\"background-color: hsl(120, 100.00%, 80.17%); opacity: 0.87\" title=\"0.261\">less</span><span style=\"opacity: 0.80\"> </span><span style=\"background-color: hsl(120, 100.00%, 91.92%); opacity: 0.82\" title=\"0.073\">of</span><span style=\"opacity: 0.80\"> </span><span style=\"background-color: hsl(0, 100.00%, 93.43%); opacity: 0.82\" title=\"-0.054\">a</span><span style=\"opacity: 0.80\"> </span><span style=\"background-color: hsl(0, 100.00%, 75.36%); opacity: 0.90\" title=\"-0.356\">modern</span><span style=\"opacity: 0.80\"> </span><span style=\"background-color: hsl(0, 100.00%, 93.80%); opacity: 0.81\" title=\"-0.050\">retelling</span><span style=\"opacity: 0.80\"> </span><span style=\"background-color: hsl(0, 100.00%, 87.66%); opacity: 0.84\" title=\"-0.133\">and</span><span style=\"opacity: 0.80\"> </span><span style=\"background-color: hsl(0, 100.00%, 87.44%); opacity: 0.84\" title=\"-0.136\">more</span><span style=\"opacity: 0.80\"> </span><span style=\"background-color: hsl(120, 100.00%, 91.92%); opacity: 0.82\" title=\"0.073\">of</span><span style=\"opacity: 0.80\"> </span><span style=\"background-color: hsl(0, 100.00%, 94.35%); opacity: 0.81\" title=\"-0.044\">a</span><span style=\"opacity: 0.80\"> </span><span style=\"background-color: hsl(0, 100.00%, 78.62%); opacity: 0.88\" title=\"-0.291\">pop</span><span style=\"opacity: 0.80\"> culture </span><span style=\"background-color: hsl(120, 100.00%, 85.26%); opacity: 0.85\" title=\"0.171\">perversion</span><span style=\"opacity: 0.80\"> </span><span style=\"background-color: hsl(0, 100.00%, 96.83%); opacity: 0.81\" title=\"-0.019\">the</span><span style=\"opacity: 0.80\"> adaptation </span><span style=\"background-color: hsl(0, 100.00%, 91.97%); opacity: 0.82\" title=\"-0.072\">of</span><span style=\"opacity: 0.80\"> </span><span style=\"background-color: hsl(0, 100.00%, 95.54%); opacity: 0.81\" title=\"-0.031\">the</span><span style=\"opacity: 0.80\"> original </span><span style=\"background-color: hsl(120, 100.00%, 96.64%); opacity: 0.81\" title=\"0.021\">s</span><span style=\"opacity: 0.80\"> </span><span style=\"background-color: hsl(120, 100.00%, 86.27%); opacity: 0.84\" title=\"0.155\">characters</span><span style=\"opacity: 0.80\"> seemed </span><span style=\"background-color: hsl(120, 100.00%, 91.09%); opacity: 0.82\" title=\"0.083\">juvenile</span><span style=\"opacity: 0.80\"> and </span><span style=\"background-color: hsl(0, 100.00%, 90.87%); opacity: 0.82\" title=\"-0.086\">usually</span><span style=\"opacity: 0.80\"> </span><span style=\"background-color: hsl(120, 100.00%, 95.71%); opacity: 0.81\" title=\"0.029\">proved</span><span style=\"opacity: 0.80\"> </span><span style=\"background-color: hsl(0, 100.00%, 88.11%); opacity: 0.84\" title=\"-0.126\">to</span><span style=\"opacity: 0.80\"> </span><span style=\"background-color: hsl(120, 100.00%, 88.74%); opacity: 0.83\" title=\"0.116\">be</span><span style=\"opacity: 0.80\"> </span><span style=\"background-color: hsl(120, 100.00%, 69.22%); opacity: 0.94\" title=\"0.490\">horribly</span><span style=\"opacity: 0.80\"> </span><span style=\"background-color: hsl(120, 100.00%, 83.62%); opacity: 0.86\" title=\"0.199\">annoying</span><span style=\"opacity: 0.80\"> </span><span style=\"background-color: hsl(0, 100.00%, 91.00%); opacity: 0.82\" title=\"-0.085\">it</span><span style=\"opacity: 0.80\"> </span><span style=\"background-color: hsl(0, 100.00%, 76.71%); opacity: 0.89\" title=\"-0.329\">probably</span><span style=\"opacity: 0.80\"> </span><span style=\"background-color: hsl(120, 100.00%, 98.92%); opacity: 0.80\" title=\"0.004\">didn</span><span style=\"opacity: 0.80\"> </span><span style=\"background-color: hsl(120, 100.00%, 92.40%); opacity: 0.82\" title=\"0.066\">t</span><span style=\"opacity: 0.80\"> </span><span style=\"background-color: hsl(120, 100.00%, 89.08%); opacity: 0.83\" title=\"0.111\">help</span><span style=\"opacity: 0.80\"> </span><span style=\"background-color: hsl(120, 100.00%, 86.01%); opacity: 0.84\" title=\"0.159\">that</span><span style=\"opacity: 0.80\"> </span><span style=\"background-color: hsl(120, 100.00%, 96.56%); opacity: 0.81\" title=\"0.021\">the</span><span style=\"opacity: 0.80\"> </span><span style=\"background-color: hsl(0, 100.00%, 93.64%); opacity: 0.81\" title=\"-0.051\">actors</span><span style=\"opacity: 0.80\"> </span><span style=\"background-color: hsl(120, 100.00%, 94.62%); opacity: 0.81\" title=\"0.041\">weren</span><span style=\"opacity: 0.80\"> </span><span style=\"background-color: hsl(120, 100.00%, 92.40%); opacity: 0.82\" title=\"0.066\">t</span><span style=\"opacity: 0.80\"> </span><span style=\"background-color: hsl(0, 100.00%, 91.61%); opacity: 0.82\" title=\"-0.076\">very</span><span style=\"opacity: 0.80\"> </span><span style=\"background-color: hsl(0, 100.00%, 77.44%); opacity: 0.89\" title=\"-0.314\">good</span><span style=\"opacity: 0.80\"> </span><span style=\"background-color: hsl(0, 100.00%, 80.70%); opacity: 0.87\" title=\"-0.251\">either</span><span style=\"opacity: 0.80\"> </span><span style=\"background-color: hsl(120, 100.00%, 99.49%); opacity: 0.80\" title=\"0.001\">most</span><span style=\"opacity: 0.80\"> performances </span><span style=\"background-color: hsl(120, 100.00%, 88.25%); opacity: 0.83\" title=\"0.124\">were</span><span style=\"opacity: 0.80\"> </span><span style=\"background-color: hsl(120, 100.00%, 96.72%); opacity: 0.81\" title=\"0.020\">ridiculously</span><span style=\"opacity: 0.80\"> </span><span style=\"background-color: hsl(120, 100.00%, 91.56%); opacity: 0.82\" title=\"0.077\">over</span><span style=\"opacity: 0.80\"> </span><span style=\"background-color: hsl(0, 100.00%, 96.83%); opacity: 0.81\" title=\"-0.019\">the</span><span style=\"opacity: 0.80\"> top </span><span style=\"background-color: hsl(120, 100.00%, 87.13%); opacity: 0.84\" title=\"0.141\">which</span><span style=\"opacity: 0.80\"> </span><span style=\"background-color: hsl(120, 100.00%, 98.14%); opacity: 0.80\" title=\"0.009\">i</span><span style=\"opacity: 0.80\"> assume </span><span style=\"background-color: hsl(120, 100.00%, 94.10%); opacity: 0.81\" title=\"0.046\">was</span><span style=\"opacity: 0.80\"> </span><span style=\"background-color: hsl(0, 100.00%, 85.13%); opacity: 0.85\" title=\"-0.173\">either</span><span style=\"opacity: 0.80\"> </span><span style=\"background-color: hsl(0, 100.00%, 99.03%); opacity: 0.80\" title=\"-0.004\">due</span><span style=\"opacity: 0.80\"> to </span><span style=\"background-color: hsl(120, 100.00%, 79.18%); opacity: 0.88\" title=\"0.280\">bad</span><span style=\"opacity: 0.80\"> direction or </span><span style=\"background-color: hsl(120, 100.00%, 82.35%); opacity: 0.86\" title=\"0.221\">an</span><span style=\"opacity: 0.80\"> </span><span style=\"background-color: hsl(120, 100.00%, 74.04%); opacity: 0.91\" title=\"0.384\">effort</span><span style=\"opacity: 0.80\"> to </span><span style=\"background-color: hsl(0, 100.00%, 86.87%); opacity: 0.84\" title=\"-0.145\">make</span><span style=\"opacity: 0.80\"> </span><span style=\"background-color: hsl(120, 100.00%, 87.63%); opacity: 0.84\" title=\"0.133\">up</span><span style=\"opacity: 0.80\"> </span><span style=\"background-color: hsl(120, 100.00%, 88.87%); opacity: 0.83\" title=\"0.114\">for</span><span style=\"opacity: 0.80\"> </span><span style=\"background-color: hsl(0, 100.00%, 89.50%); opacity: 0.83\" title=\"-0.105\">a</span><span style=\"opacity: 0.80\"> </span><span style=\"background-color: hsl(120, 100.00%, 87.54%); opacity: 0.84\" title=\"0.134\">bad</span><span style=\"opacity: 0.80\"> </span><span style=\"background-color: hsl(120, 100.00%, 73.79%); opacity: 0.91\" title=\"0.389\">script</span><span style=\"opacity: 0.80\"> </span><span style=\"background-color: hsl(0, 100.00%, 95.30%); opacity: 0.81\" title=\"-0.033\">i</span><span style=\"opacity: 0.80\"> did not laugh </span><span style=\"background-color: hsl(0, 100.00%, 97.02%); opacity: 0.80\" title=\"-0.017\">once</span><span style=\"opacity: 0.80\"> through </span><span style=\"background-color: hsl(120, 100.00%, 91.43%); opacity: 0.82\" title=\"0.079\">out</span><span style=\"opacity: 0.80\"> </span><span style=\"background-color: hsl(0, 100.00%, 96.83%); opacity: 0.81\" title=\"-0.019\">the</span><span style=\"opacity: 0.80\"> </span><span style=\"background-color: hsl(120, 100.00%, 97.77%); opacity: 0.80\" title=\"0.012\">duration</span><span style=\"opacity: 0.80\"> </span><span style=\"background-color: hsl(0, 100.00%, 92.90%); opacity: 0.82\" title=\"-0.060\">of</span><span style=\"opacity: 0.80\"> </span><span style=\"background-color: hsl(0, 100.00%, 91.10%); opacity: 0.82\" title=\"-0.083\">the</span><span style=\"opacity: 0.80\"> </span><span style=\"background-color: hsl(120, 100.00%, 93.19%); opacity: 0.82\" title=\"0.057\">film</span><span style=\"opacity: 0.80\"> </span><span style=\"background-color: hsl(0, 100.00%, 95.95%); opacity: 0.81\" title=\"-0.027\">all</span><span style=\"opacity: 0.80\"> </span><span style=\"background-color: hsl(0, 100.00%, 91.97%); opacity: 0.82\" title=\"-0.072\">of</span><span style=\"opacity: 0.80\"> </span><span style=\"background-color: hsl(0, 100.00%, 95.54%); opacity: 0.81\" title=\"-0.031\">the</span><span style=\"opacity: 0.80\"> </span><span style=\"background-color: hsl(120, 100.00%, 87.81%); opacity: 0.84\" title=\"0.130\">jokes</span><span style=\"opacity: 0.80\"> </span><span style=\"background-color: hsl(120, 100.00%, 85.85%); opacity: 0.85\" title=\"0.161\">were</span><span style=\"opacity: 0.80\"> </span><span style=\"background-color: hsl(120, 100.00%, 71.46%); opacity: 0.92\" title=\"0.440\">outdated</span><span style=\"opacity: 0.80\"> references </span><span style=\"background-color: hsl(0, 100.00%, 91.32%); opacity: 0.82\" title=\"-0.080\">to</span><span style=\"opacity: 0.80\"> </span><span style=\"background-color: hsl(0, 100.00%, 91.32%); opacity: 0.82\" title=\"-0.080\">not</span><span style=\"opacity: 0.80\"> so </span><span style=\"background-color: hsl(120, 100.00%, 95.40%); opacity: 0.81\" title=\"0.032\">current</span><span style=\"opacity: 0.80\"> </span><span style=\"background-color: hsl(120, 100.00%, 88.01%); opacity: 0.84\" title=\"0.127\">events</span><span style=\"opacity: 0.80\"> </span><span style=\"background-color: hsl(120, 100.00%, 86.45%); opacity: 0.84\" title=\"0.152\">that</span><span style=\"opacity: 0.80\"> are </span><span style=\"background-color: hsl(0, 100.00%, 83.03%); opacity: 0.86\" title=\"-0.209\">sure</span><span style=\"opacity: 0.80\"> </span><span style=\"background-color: hsl(0, 100.00%, 83.03%); opacity: 0.86\" title=\"-0.209\">to</span><span style=\"opacity: 0.80\"> </span><span style=\"background-color: hsl(120, 100.00%, 94.27%); opacity: 0.81\" title=\"0.044\">lose</span><span style=\"opacity: 0.80\"> their </span><span style=\"background-color: hsl(120, 100.00%, 97.90%); opacity: 0.80\" title=\"0.011\">poignancy</span><span style=\"opacity: 0.80\"> </span><span style=\"background-color: hsl(0, 100.00%, 74.45%); opacity: 0.91\" title=\"-0.375\">as</span><span style=\"opacity: 0.80\"> </span><span style=\"background-color: hsl(0, 100.00%, 77.75%); opacity: 0.89\" title=\"-0.308\">time</span><span style=\"opacity: 0.80\"> </span><span style=\"background-color: hsl(0, 100.00%, 81.94%); opacity: 0.86\" title=\"-0.229\">goes</span><span style=\"opacity: 0.80\"> </span><span style=\"background-color: hsl(0, 100.00%, 85.06%); opacity: 0.85\" title=\"-0.174\">by</span><span style=\"opacity: 0.80\"> </span><span style=\"background-color: hsl(0, 100.00%, 97.55%); opacity: 0.80\" title=\"-0.013\">really</span><span style=\"opacity: 0.80\"> </span><span style=\"background-color: hsl(0, 100.00%, 68.82%); opacity: 0.94\" title=\"-0.499\">the</span><span style=\"opacity: 0.80\"> </span><span style=\"background-color: hsl(0, 100.00%, 88.23%); opacity: 0.83\" title=\"-0.124\">only</span><span style=\"opacity: 0.80\"> </span><span style=\"background-color: hsl(0, 100.00%, 94.18%); opacity: 0.81\" title=\"-0.045\">highlight</span><span style=\"opacity: 0.80\"> </span><span style=\"background-color: hsl(0, 100.00%, 94.98%); opacity: 0.81\" title=\"-0.037\">of</span><span style=\"opacity: 0.80\"> </span><span style=\"background-color: hsl(0, 100.00%, 91.10%); opacity: 0.82\" title=\"-0.083\">the</span><span style=\"opacity: 0.80\"> </span><span style=\"background-color: hsl(120, 100.00%, 93.19%); opacity: 0.82\" title=\"0.057\">film</span><span style=\"opacity: 0.80\"> </span><span style=\"background-color: hsl(120, 100.00%, 97.17%); opacity: 0.80\" title=\"0.016\">was</span><span style=\"opacity: 0.80\"> </span><span style=\"background-color: hsl(0, 100.00%, 97.85%); opacity: 0.80\" title=\"-0.011\">the</span><span style=\"opacity: 0.80\"> </span><span style=\"background-color: hsl(120, 100.00%, 91.52%); opacity: 0.82\" title=\"0.078\">opening</span><span style=\"opacity: 0.80\"> </span><span style=\"background-color: hsl(0, 100.00%, 83.35%); opacity: 0.86\" title=\"-0.204\">sequence</span><span style=\"opacity: 0.80\"> </span><span style=\"background-color: hsl(0, 100.00%, 80.98%); opacity: 0.87\" title=\"-0.246\">in</span><span style=\"opacity: 0.80\"> </span><span style=\"background-color: hsl(0, 100.00%, 98.10%); opacity: 0.80\" title=\"-0.009\">which</span><span style=\"opacity: 0.80\"> </span><span style=\"background-color: hsl(0, 100.00%, 96.83%); opacity: 0.81\" title=\"-0.019\">the</span><span style=\"opacity: 0.80\"> white </span><span style=\"background-color: hsl(120, 100.00%, 91.05%); opacity: 0.82\" title=\"0.084\">rabbit</span><span style=\"opacity: 0.80\"> is </span><span style=\"background-color: hsl(0, 100.00%, 92.66%); opacity: 0.82\" title=\"-0.063\">on</span><span style=\"opacity: 0.80\"> </span><span style=\"background-color: hsl(0, 100.00%, 90.44%); opacity: 0.83\" title=\"-0.092\">his</span><span style=\"opacity: 0.80\"> </span><span style=\"background-color: hsl(120, 100.00%, 96.16%); opacity: 0.81\" title=\"0.025\">way</span><span style=\"opacity: 0.80\"> to </span><span style=\"background-color: hsl(120, 100.00%, 94.90%); opacity: 0.81\" title=\"0.038\">meet</span><span style=\"opacity: 0.80\"> </span><span style=\"background-color: hsl(0, 100.00%, 96.31%); opacity: 0.81\" title=\"-0.024\">alice</span><span style=\"opacity: 0.80\"> </span><span style=\"background-color: hsl(0, 100.00%, 90.49%); opacity: 0.83\" title=\"-0.092\">but</span><span style=\"opacity: 0.80\"> </span><span style=\"background-color: hsl(0, 100.00%, 82.07%); opacity: 0.86\" title=\"-0.226\">even</span><span style=\"opacity: 0.80\"> </span><span style=\"background-color: hsl(0, 100.00%, 84.70%); opacity: 0.85\" title=\"-0.181\">then</span><span style=\"opacity: 0.80\"> </span><span style=\"background-color: hsl(0, 100.00%, 92.53%); opacity: 0.82\" title=\"-0.065\">the</span><span style=\"opacity: 0.80\"> </span><span style=\"background-color: hsl(120, 100.00%, 92.02%); opacity: 0.82\" title=\"0.071\">score</span><span style=\"opacity: 0.80\"> </span><span style=\"background-color: hsl(0, 100.00%, 87.89%); opacity: 0.84\" title=\"-0.129\">was</span><span style=\"opacity: 0.80\"> </span><span style=\"background-color: hsl(120, 100.00%, 92.10%); opacity: 0.82\" title=\"0.070\">a</span><span style=\"opacity: 0.80\"> </span><span style=\"background-color: hsl(120, 100.00%, 78.91%); opacity: 0.88\" title=\"0.285\">poor</span><span style=\"opacity: 0.80\"> </span><span style=\"background-color: hsl(120, 100.00%, 78.27%); opacity: 0.88\" title=\"0.298\">imitation</span><span style=\"opacity: 0.80\"> </span><span style=\"background-color: hsl(0, 100.00%, 87.51%); opacity: 0.84\" title=\"-0.135\">of</span><span style=\"opacity: 0.80\"> </span><span style=\"background-color: hsl(0, 100.00%, 87.51%); opacity: 0.84\" title=\"-0.135\">danny</span><span style=\"opacity: 0.80\"> </span><span style=\"background-color: hsl(120, 100.00%, 87.56%); opacity: 0.84\" title=\"0.134\">elfman</span><span style=\"opacity: 0.80\"> </span><span style=\"background-color: hsl(120, 100.00%, 96.64%); opacity: 0.81\" title=\"0.021\">s</span><span style=\"opacity: 0.80\"> </span><span style=\"background-color: hsl(0, 100.00%, 82.24%); opacity: 0.86\" title=\"-0.223\">work</span><span style=\"opacity: 0.80\"> </span><span style=\"background-color: hsl(0, 100.00%, 81.50%); opacity: 0.87\" title=\"-0.237\">also</span><span style=\"opacity: 0.80\"> </span><span style=\"background-color: hsl(0, 100.00%, 80.40%); opacity: 0.87\" title=\"-0.257\">i</span><span style=\"opacity: 0.80\"> </span><span style=\"background-color: hsl(0, 100.00%, 85.58%); opacity: 0.85\" title=\"-0.166\">d</span><span style=\"opacity: 0.80\"> </span><span style=\"background-color: hsl(120, 100.00%, 93.36%); opacity: 0.82\" title=\"0.055\">have</span><span style=\"opacity: 0.80\"> </span><span style=\"background-color: hsl(120, 100.00%, 93.36%); opacity: 0.82\" title=\"0.055\">to</span><span style=\"opacity: 0.80\"> say </span><span style=\"background-color: hsl(120, 100.00%, 86.01%); opacity: 0.84\" title=\"0.159\">that</span><span style=\"opacity: 0.80\"> </span><span style=\"background-color: hsl(120, 100.00%, 96.56%); opacity: 0.81\" title=\"0.021\">the</span><span style=\"opacity: 0.80\"> </span><span style=\"background-color: hsl(120, 100.00%, 90.51%); opacity: 0.83\" title=\"0.091\">conversion</span><span style=\"opacity: 0.80\"> </span><span style=\"background-color: hsl(0, 100.00%, 91.97%); opacity: 0.82\" title=\"-0.072\">of</span><span style=\"opacity: 0.80\"> </span><span style=\"background-color: hsl(0, 100.00%, 95.54%); opacity: 0.81\" title=\"-0.031\">the</span><span style=\"opacity: 0.80\"> </span><span style=\"background-color: hsl(120, 100.00%, 95.13%); opacity: 0.81\" title=\"0.035\">croquet</span><span style=\"opacity: 0.80\"> </span><span style=\"background-color: hsl(120, 100.00%, 94.53%); opacity: 0.81\" title=\"0.041\">game</span><span style=\"opacity: 0.80\"> </span><span style=\"background-color: hsl(120, 100.00%, 94.53%); opacity: 0.81\" title=\"0.041\">into</span><span style=\"opacity: 0.80\"> </span><span style=\"background-color: hsl(120, 100.00%, 94.65%); opacity: 0.81\" title=\"0.040\">a</span><span style=\"opacity: 0.80\"> </span><span style=\"background-color: hsl(120, 100.00%, 89.67%); opacity: 0.83\" title=\"0.103\">rave</span><span style=\"opacity: 0.80\"> </span><span style=\"background-color: hsl(0, 100.00%, 89.06%); opacity: 0.83\" title=\"-0.112\">dance</span><span style=\"opacity: 0.80\"> </span><span style=\"background-color: hsl(120, 100.00%, 83.05%); opacity: 0.86\" title=\"0.209\">off</span><span style=\"opacity: 0.80\"> was </span><span style=\"background-color: hsl(120, 100.00%, 64.08%); opacity: 0.97\" title=\"0.611\">awful</span><span style=\"opacity: 0.80\"> it </span><span style=\"background-color: hsl(0, 100.00%, 85.83%); opacity: 0.85\" title=\"-0.162\">was</span><span style=\"opacity: 0.80\"> </span><span style=\"background-color: hsl(0, 100.00%, 85.83%); opacity: 0.85\" title=\"-0.162\">with</span><span style=\"opacity: 0.80\"> </span><span style=\"background-color: hsl(120, 100.00%, 91.43%); opacity: 0.82\" title=\"0.079\">out</span><span style=\"opacity: 0.80\"> </span><span style=\"background-color: hsl(0, 100.00%, 83.87%); opacity: 0.85\" title=\"-0.195\">a</span><span style=\"opacity: 0.80\"> </span><span style=\"background-color: hsl(0, 100.00%, 85.23%); opacity: 0.85\" title=\"-0.172\">doubt</span><span style=\"opacity: 0.80\"> </span><span style=\"background-color: hsl(120, 100.00%, 84.95%); opacity: 0.85\" title=\"0.176\">the</span><span style=\"opacity: 0.80\"> </span><span style=\"background-color: hsl(120, 100.00%, 76.36%); opacity: 0.89\" title=\"0.336\">low</span><span style=\"opacity: 0.80\"> </span><span style=\"background-color: hsl(0, 100.00%, 88.65%); opacity: 0.83\" title=\"-0.118\">point</span><span style=\"opacity: 0.80\"> </span><span style=\"background-color: hsl(0, 100.00%, 84.17%); opacity: 0.85\" title=\"-0.189\">of</span><span style=\"opacity: 0.80\"> </span><span style=\"background-color: hsl(0, 100.00%, 91.10%); opacity: 0.82\" title=\"-0.083\">the</span><span style=\"opacity: 0.80\"> </span><span style=\"background-color: hsl(120, 100.00%, 87.40%); opacity: 0.84\" title=\"0.137\">film</span><span style=\"opacity: 0.80\"> </span><span style=\"background-color: hsl(120, 100.00%, 90.38%); opacity: 0.83\" title=\"0.093\">what</span><span style=\"opacity: 0.80\"> </span><span style=\"background-color: hsl(120, 100.00%, 93.49%); opacity: 0.81\" title=\"0.053\">a</span><span style=\"opacity: 0.80\"> </span><span style=\"background-color: hsl(120, 100.00%, 81.97%); opacity: 0.86\" title=\"0.228\">joke</span><span style=\"opacity: 0.80\"> </span><span style=\"background-color: hsl(120, 100.00%, 85.60%); opacity: 0.85\" title=\"0.165\">don</span><span style=\"opacity: 0.80\"> </span><span style=\"background-color: hsl(120, 100.00%, 85.25%); opacity: 0.85\" title=\"0.171\">t</span><span style=\"opacity: 0.80\"> see </span><span style=\"background-color: hsl(0, 100.00%, 97.82%); opacity: 0.80\" title=\"-0.011\">this</span><span style=\"opacity: 0.80\"> </span><span style=\"background-color: hsl(120, 100.00%, 93.11%); opacity: 0.82\" title=\"0.058\">movie</span><span style=\"opacity: 0.80\"> </span><span style=\"background-color: hsl(120, 100.00%, 87.19%); opacity: 0.84\" title=\"0.140\">after</span><span style=\"opacity: 0.80\"> </span><span style=\"background-color: hsl(0, 100.00%, 91.86%); opacity: 0.82\" title=\"-0.073\">its</span><span style=\"opacity: 0.80\"> </span><span style=\"background-color: hsl(120, 100.00%, 93.87%); opacity: 0.81\" title=\"0.049\">conclusion</span><span style=\"opacity: 0.80\"> </span><span style=\"background-color: hsl(0, 100.00%, 92.21%); opacity: 0.82\" title=\"-0.069\">i</span><span style=\"opacity: 0.80\"> </span><span style=\"background-color: hsl(0, 100.00%, 97.73%); opacity: 0.80\" title=\"-0.012\">was</span><span style=\"opacity: 0.80\"> </span><span style=\"background-color: hsl(0, 100.00%, 83.58%); opacity: 0.86\" title=\"-0.200\">genuinely</span><span style=\"opacity: 0.80\"> </span><span style=\"background-color: hsl(120, 100.00%, 92.75%); opacity: 0.82\" title=\"0.062\">angry</span>\n",
              "    </p>\n",
              "\n",
              "\n",
              "    \n",
              "\n",
              "    \n",
              "\n",
              "    \n",
              "\n",
              "    \n",
              "\n",
              "\n",
              "    \n",
              "\n",
              "    \n",
              "\n",
              "    \n",
              "\n",
              "    \n",
              "\n",
              "    \n",
              "\n",
              "    \n",
              "\n",
              "\n",
              "    \n",
              "\n",
              "    \n",
              "\n",
              "    \n",
              "\n",
              "    \n",
              "\n",
              "    \n",
              "\n",
              "    \n",
              "\n",
              "\n",
              "\n"
            ]
          },
          "metadata": {},
          "execution_count": 79
        }
      ]
    }
  ]
}